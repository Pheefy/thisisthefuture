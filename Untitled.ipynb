{
 "cells": [
  {
   "cell_type": "code",
   "execution_count": 6,
   "id": "afbefa36-6352-430d-bd3d-7adf21616e76",
   "metadata": {},
   "outputs": [],
   "source": [
    "from tensorflow import *\n",
    "class ExperimentCallback(keras.callbacks.Callback):\n",
    "    \"\"\" \"\"\"\n",
    "\n",
    "    def __init__(self, run, model, x_test, y_test):\n",
    "        \"\"\"Save params in constructor\"\"\"\n",
    "        self.run = run\n",
    "        self.model = model\n",
    "        self.x_test = x_test\n",
    "        self.y_test = y_test\n",
    "\n",
    "    def on_epoch_end(self, epoch, logs=None):\n",
    "        \"\"\" \"\"\"\n",
    "        keys = list(logs.keys())\n",
    "        for key in keys:\n",
    "            run.log_metric(name=key, value=logs[key], step=epoch)\n",
    "            print(\"Epoch: {}\\n{} -> {}\".format(epoch, key, logs[key]))"
   ]
  },
  {
   "cell_type": "code",
   "execution_count": 7,
   "id": "008817e4-1a16-44c4-9dba-ad9b17c01d51",
   "metadata": {},
   "outputs": [],
   "source": [
    "import os \n",
    "os.environ['AWS_DEFAULT_REGION'] = \"us-east-1\""
   ]
  },
  {
   "cell_type": "code",
   "execution_count": 8,
   "id": "596c7e59-5622-4b17-8b44-a8a334bdb2b5",
   "metadata": {},
   "outputs": [
    {
     "name": "stderr",
     "output_type": "stream",
     "text": [
      "INFO:botocore.credentials:Found credentials in shared credentials file: ~/.aws/credentials\n"
     ]
    },
    {
     "ename": "NameError",
     "evalue": "name 'epochs' is not defined",
     "output_type": "error",
     "traceback": [
      "\u001b[0;31m---------------------------------------------------------------------------\u001b[0m",
      "\u001b[0;31mNameError\u001b[0m                                 Traceback (most recent call last)",
      "Cell \u001b[0;32mIn[8], line 8\u001b[0m\n\u001b[1;32m      4\u001b[0m \u001b[38;5;28;01mwith\u001b[39;00m Run(experiment_name \u001b[38;5;241m=\u001b[39m \u001b[38;5;124m'\u001b[39m\u001b[38;5;124mrunbaby\u001b[39m\u001b[38;5;124m'\u001b[39m) \u001b[38;5;28;01mas\u001b[39;00m run:\n\u001b[1;32m      5\u001b[0m     \n\u001b[1;32m      6\u001b[0m     \u001b[38;5;66;03m# Define values for the parameters to log\u001b[39;00m\n\u001b[1;32m      7\u001b[0m     run\u001b[38;5;241m.\u001b[39mlog_parameter(\u001b[38;5;124m\"\u001b[39m\u001b[38;5;124mbatch_size\u001b[39m\u001b[38;5;124m\"\u001b[39m, batch_size)\n\u001b[0;32m----> 8\u001b[0m     run\u001b[38;5;241m.\u001b[39mlog_parameter(\u001b[38;5;124m\"\u001b[39m\u001b[38;5;124mepochs\u001b[39m\u001b[38;5;124m\"\u001b[39m, \u001b[43mepochs\u001b[49m)\n\u001b[1;32m      9\u001b[0m     run\u001b[38;5;241m.\u001b[39mlog_parameter(\u001b[38;5;124m\"\u001b[39m\u001b[38;5;124mdropout\u001b[39m\u001b[38;5;124m\"\u001b[39m, \u001b[38;5;241m0.5\u001b[39m)\n\u001b[1;32m     11\u001b[0m     \u001b[38;5;66;03m# Define input artifacts\u001b[39;00m\n",
      "\u001b[0;31mNameError\u001b[0m: name 'epochs' is not defined"
     ]
    }
   ],
   "source": [
    "from sagemaker.experiments import Run\n",
    "\n",
    "# The run name is an optional argument to `run.init()`\n",
    "with Run(experiment_name = 'runbaby') as run:\n",
    "    \n",
    "    # Define values for the parameters to log\n",
    "    run.log_parameter(\"batch_size\", batch_size)\n",
    "    run.log_parameter(\"epochs\", epochs)\n",
    "    run.log_parameter(\"dropout\", 0.5)\n",
    "    \n",
    "    # Define input artifacts\n",
    "    run.log_file('datasets/input_train.npy', is_output = False)\n",
    "    run.log_file('datasets/input_test.npy', is_output = False)\n",
    "    run.log_file('datasets/input_train_labels.npy', is_output = False)\n",
    "    run.log_file('datasets/input_test_labels.npy', is_output = False)\n",
    "\n",
    "    # Train locally\n",
    "    model.fit(\n",
    "        x_train, \n",
    "        y_train, \n",
    "        batch_size=batch_size, \n",
    "        epochs=epochs, \n",
    "        validation_split=0.1, \n",
    "        callbacks = [ExperimentCallback(run, model, x_test, y_test)]\n",
    "    )\n",
    "    \n",
    "    score = model.evaluate(x_test, y_test, verbose=0)\n",
    "    print(\"Test loss:\", score[0])\n",
    "    print(\"Test accuracy:\", score[1])\n",
    "    \n",
    "    # Define metrics to log\n",
    "    run.log_metric(name = \"Final Test Loss\", value = score[0])\n",
    "    run.log_metric(name = \"Final Test Accuracy\", value = score[1])"
   ]
  },
  {
   "cell_type": "code",
   "execution_count": null,
   "id": "67e552cf-d22e-41a8-9926-7393dd58b802",
   "metadata": {},
   "outputs": [],
   "source": []
  },
  {
   "cell_type": "code",
   "execution_count": null,
   "id": "b98b45af-1565-40af-a13e-387d73beedb0",
   "metadata": {},
   "outputs": [],
   "source": []
  }
 ],
 "metadata": {
  "kernelspec": {
   "display_name": "Python 3 (ipykernel)",
   "language": "python",
   "name": "python3"
  },
  "language_info": {
   "codemirror_mode": {
    "name": "ipython",
    "version": 3
   },
   "file_extension": ".py",
   "mimetype": "text/x-python",
   "name": "python",
   "nbconvert_exporter": "python",
   "pygments_lexer": "ipython3",
   "version": "3.10.12"
  }
 },
 "nbformat": 4,
 "nbformat_minor": 5
}
